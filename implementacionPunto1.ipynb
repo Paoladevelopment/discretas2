{
  "nbformat": 4,
  "nbformat_minor": 0,
  "metadata": {
    "colab": {
      "name": "implementacionPunto1.ipynb",
      "provenance": [],
      "collapsed_sections": [],
      "authorship_tag": "ABX9TyP0wZOgUrqJFix9fBB0UcgW",
      "include_colab_link": true
    },
    "kernelspec": {
      "name": "python3",
      "display_name": "Python 3"
    },
    "language_info": {
      "name": "python"
    }
  },
  "cells": [
    {
      "cell_type": "markdown",
      "metadata": {
        "id": "view-in-github",
        "colab_type": "text"
      },
      "source": [
        "<a href=\"https://colab.research.google.com/github/Paoladevelopment/discretas2/blob/main/implementacionPunto1.ipynb\" target=\"_parent\"><img src=\"https://colab.research.google.com/assets/colab-badge.svg\" alt=\"Open In Colab\"/></a>"
      ]
    },
    {
      "cell_type": "code",
      "metadata": {
        "id": "tI5GPy06oj5u"
      },
      "source": [
        "#INSERTEN ACÁ SUS CÓDIGOS Y NOMBRES:\n",
        "# Paola Andrea Domínguez Vélez, cod-> 2059956-3743\n",
        "import numpy as np\n",
        "import math"
      ],
      "execution_count": 3,
      "outputs": []
    },
    {
      "cell_type": "code",
      "metadata": {
        "id": "7FEV2amCaotM"
      },
      "source": [
        "#Descripción: El siguiente pedazo de código implementa una clase llamada : \"grafo\". Donde se implementan\n",
        "#los métodos correspondiente al grafo."
      ],
      "execution_count": 4,
      "outputs": []
    },
    {
      "cell_type": "code",
      "metadata": {
        "id": "xgDglMBPbGKs"
      },
      "source": [
        "class grafo:\n",
        "  def __init__(self, numVertices):\n",
        "    self.numVertices= numVertices\n",
        "    self.matrizAdyacencia= np.zeros((numVertices,numVertices))\n",
        "\n",
        "#método de la clase que permitirá llenar la matriz de adyacencia del grafo con la información presente en la matriz\n",
        "#del archivo\n",
        "\n",
        "  def llenarMatriz(self, listaInfoArchivo):\n",
        "    matrizAux= []\n",
        "    for el in listaInfoArchivo:\n",
        "      fila= [int(x) for x in el.split(' ')]\n",
        "      matrizAux.append(fila)\n",
        "    \n",
        "    self.matrizAdyacencia= np.array(matrizAux)\n",
        "\n",
        "#Descripción: Este método retorna la matriz de adyacencia con sus inf (infinitos) respectivos, para ayudarnos con el algoritmo de Warshall. \n",
        "#Los inf simbolizarán caminos no accesible entre par de vértices (es decir aquellos que no son adyacentes)\n",
        "\n",
        "  def representacionWarshallMatriz(self):\n",
        "    n= self.numVertices\n",
        "    matriz_warshall= np.zeros((n,n))\n",
        "    for i in range(n):\n",
        "      for j in range(n):\n",
        "        if(i!=j):\n",
        "          if(self.matrizAdyacencia[i][j] == 0):\n",
        "              matriz_warshall[i][j]= math.inf\n",
        "          else: matriz_warshall[i][j]= self.matrizAdyacencia[i][j]\n",
        "    return matriz_warshall\n",
        "\n",
        "#Descripción: Este método se encarga de retornar la representacion de la matriz de camino inicial, es decir contendrá\n",
        "#en sus filas el elemento de esa fila.\n",
        "\n",
        "  def matrizCaminoInicial(self):\n",
        "    n= self.numVertices\n",
        "    matriz_caminoIni= np.zeros((n,n))\n",
        "    for i in range(n):\n",
        "      for j in range(n):\n",
        "        if(i!=j):\n",
        "          if(self.matrizAdyacencia[i][j] == 0):\n",
        "              matriz_caminoIni[i][j]= -1\n",
        "          else: matriz_caminoIni[i][j]= i\n",
        "          \n",
        "        else: matriz_caminoIni[i][j]= i\n",
        "    return matriz_caminoIni\n",
        "\n",
        "#Descripción:\n",
        "\n",
        "  def algoritmoWarshall(self):\n",
        "    #las siguientes matrices cambiarán sus valores= matriz_warshall & matriz_camino. \n",
        "    #Sus valores finales representan el costo de camino mínimo entre dos nodos. (Si hay un camino)\n",
        "    #y la secuencia de camino respectivamente.\n",
        "    numVertices= self.numVertices\n",
        "    matriz_warshall= np.copy(self.representacionWarshallMatriz())\n",
        "    matriz_camino= np.copy(self.matrizCaminoInicial())\n",
        "    for pivote in range(numVertices):\n",
        "      for i in range(numVertices):\n",
        "        for j in range(numVertices):\n",
        "          if(matriz_warshall[i][pivote]+ matriz_warshall[pivote][j] < matriz_warshall[i][j]):\n",
        "            matriz_warshall[i][j]= matriz_warshall[i][pivote]+ matriz_warshall[pivote][j]\n",
        "            matriz_camino[i][j]= matriz_camino[pivote][j]\n",
        "\n",
        "    return matriz_warshall, matriz_camino\n",
        "\n",
        "#Descripción: función que recibe dos vértices, ésta retornará el costo de camino mínimo entre esos dos vertices\n",
        "#claro, siempre y cuando haya un camino, en caso de no haber la salida es -1.\n",
        "\n",
        "  def costocaminoMasCortoEntreDosNodos(self, nodo1, nodo2):\n",
        "    costoCamino= -1 #representa cuando no hay camino\n",
        "    matriz_warshall= self.algoritmoWarshall()[0]\n",
        "    if(matriz_warshall[nodo1][nodo2] != math.inf):\n",
        "      costoCamino= matriz_warshall[nodo1][nodo2]\n",
        "    return costoCamino\n",
        "\n",
        "#Descripción: \n",
        "\n",
        "  def caminoMasCortoEntreDosNodos(self,nodo1, nodo2):\n",
        "    nodoFinal= str(nodo2)\n",
        "    myPath= ' '\n",
        "    matriz_caminoMasCorto= self.algoritmoWarshall()[1]\n",
        "    while(matriz_caminoMasCorto[nodo1][nodo2] != nodo1 and matriz_caminoMasCorto[nodo1][nodo2] != -1):\n",
        "          myPath+= str(int(matriz_caminoMasCorto[nodo1][nodo2])) + ' -- '\n",
        "          nodo2= int(matriz_caminoMasCorto[nodo1][nodo2])\n",
        "\n",
        "    return str(nodo1) + myPath[::-1] + ' -- ' + nodoFinal\n",
        "    \n",
        "  "
      ],
      "execution_count": 46,
      "outputs": []
    },
    {
      "cell_type": "code",
      "metadata": {
        "id": "4pTSrxNu437U"
      },
      "source": [
        "#Se carga el archivo con el que trabajaremos\n",
        "!wget https://raw.githubusercontent.com/Paoladevelopment/discretas2/main/grafo3.txt\n",
        "!wget https://raw.githubusercontent.com/Paoladevelopment/discretas2/main/grafo4.txt\n",
        "!wget https://raw.githubusercontent.com/Paoladevelopment/discretas2/main/grafo1.txt"
      ],
      "execution_count": null,
      "outputs": []
    },
    {
      "cell_type": "code",
      "metadata": {
        "id": "OhfGr5dX5Bg-"
      },
      "source": [
        "#abrirArchivo(): se encarga de abrir el nombre del archivo que se le pase por párametro.\n",
        "def abrirArchivo(nombre_archivo):\n",
        "    archivo= open(nombre_archivo, \"r\")\n",
        "    return archivo"
      ],
      "execution_count": 30,
      "outputs": []
    },
    {
      "cell_type": "code",
      "metadata": {
        "id": "UDXM_YhQ5bkX"
      },
      "source": [
        "#guardarInfoArchivoTextoEnUnaLista(): Se encarga de almacenar en una lista la información contenida en el\n",
        "#archivo de texto, cada posicion de la lista representa una linea del archivo de texto.\n",
        "#Ejemplo: el contenido del archivo es el siguiente:\n",
        "'''\n",
        "5\n",
        "1\n",
        "4\n",
        "0 1 0 7 0\n",
        "0 0 4 2 0\n",
        "0 0 0 0 3\n",
        "0 0 1 0 5\n",
        "0 0 0 0 0\n",
        "'''\n",
        "#la funcion retornaría: ['5', '1', '4', '0 1 0 7 0', '0 0 4 2 0', '0 0 0 0 3', '0 0 1 0 5', '0 0 0 0 0']\n",
        "\n",
        "def guardarInfoArchivoTextoEnUnaLista(archivo):\n",
        "  datos= []\n",
        "  for linea in archivo:\n",
        "    datos.append(linea.strip('\\n'))\n",
        "  return datos\n"
      ],
      "execution_count": 31,
      "outputs": []
    },
    {
      "cell_type": "code",
      "metadata": {
        "colab": {
          "base_uri": "https://localhost:8080/"
        },
        "id": "dqdxS_ZgeE-z",
        "outputId": "99a92013-f706-4e28-a1d8-030f809b07f0"
      },
      "source": [
        "salir= bool(0)\n",
        "archivo= None\n",
        "grafoEjemplo= grafo(0)\n",
        "while(not salir):\n",
        "  print('Elije una opción entre las siguientes')\n",
        "  print('1) Ingresar nombre del archivo y crear grafo')\n",
        "  print('2) Averiguar el costo mínimo entre dos vértices del grafo ingresado, junto con su \\ncamino de aristas')\n",
        "  print('3) Imprimir matriz de adyacencia, de warshall y de camino final')\n",
        "  print('4) Imagén del grafo')\n",
        "  print('5) Salir')\n",
        "  opcion= int(input('Ingresa una opción: '))\n",
        "  if(opcion== 1):\n",
        "    nombre_archivo= input(\"Ingrese el nombre del archivo: \")\n",
        "    archivo= abrirArchivo(nombre_archivo)\n",
        "    datos= guardarInfoArchivoTextoEnUnaLista(archivo)\n",
        "    grafoEjemplo= grafo(int(datos[0]))\n",
        "    grafoEjemplo.llenarMatriz(datos[3:])\n",
        "  elif(opcion==2):\n",
        "    verticeInicial= int(input('Ingrese el vértice inicial: '))\n",
        "    verticeFinal= int(input('Ingrese el vértice final: '))\n",
        "\n",
        "    print('El costo minimo entre : ', verticeInicial, ' y ', verticeFinal, 'es: ', grafoEjemplo.costocaminoMasCortoEntreDosNodos(verticeInicial, verticeFinal))\n",
        "    print('El camino para llegar desde el vértice inicial al final es: ', grafoEjemplo.caminoMasCortoEntreDosNodos(verticeInicial, verticeFinal))\n",
        "  elif(opcion== 3):\n",
        "    print('Matriz de adyacencia del grafo: ')\n",
        "    print(grafoEjemplo.matrizAdyacencia)\n",
        "    print()\n",
        "    print('Matriz de warshall: ')\n",
        "    print(grafoEjemplo.algoritmoWarshall()[0])\n",
        "    print('Matriz de caminos final: ')\n",
        "    print(grafoEjemplo.algoritmoWarshall()[1])\n",
        "  elif(opcion== 4):\n",
        "    print('en desarrollo')\n",
        "  elif(opcion==5):\n",
        "    salir= bool(1)\n",
        "  else:\n",
        "    print('Ingrese una válida opción.')\n",
        "\n",
        "\n",
        "\n",
        "\n",
        "\n"
      ],
      "execution_count": 53,
      "outputs": [
        {
          "name": "stdout",
          "output_type": "stream",
          "text": [
            "Elije una opción entre las siguientes\n",
            "1) Ingresar nombre del archivo y crear grafo\n",
            "2) Averiguar el costo mínimo entre dos vértices del grafo ingresado, junto con su \n",
            "camino de aristas\n",
            "3) Imprimir matriz de adyacencia, de warshall y de camino final\n",
            "4) Imagén del grafo\n",
            "5) Salir\n",
            "Ingresa una opción: 1\n",
            "Ingrese el nombre del archivo: grafo1.txt\n",
            "Elije una opción entre las siguientes\n",
            "1) Ingresar nombre del archivo y crear grafo\n",
            "2) Averiguar el costo mínimo entre dos vértices del grafo ingresado, junto con su \n",
            "camino de aristas\n",
            "3) Imprimir matriz de adyacencia, de warshall y de camino final\n",
            "4) Imagén del grafo\n",
            "5) Salir\n",
            "Ingresa una opción: 3\n",
            "Matriz de adyacencia del grafo: \n",
            "[[0 1 0 7 0]\n",
            " [0 0 4 2 0]\n",
            " [0 0 0 0 3]\n",
            " [0 0 1 0 5]\n",
            " [0 0 0 0 0]]\n",
            "\n",
            "Matriz de warshall: \n",
            "[[ 0.  1.  4.  3.  7.]\n",
            " [inf  0.  3.  2.  6.]\n",
            " [inf inf  0. inf  3.]\n",
            " [inf inf  1.  0.  4.]\n",
            " [inf inf inf inf  0.]]\n",
            "Matriz de caminos final: \n",
            "[[ 0.  0.  3.  1.  2.]\n",
            " [-1.  1.  3.  1.  2.]\n",
            " [-1. -1.  2. -1.  2.]\n",
            " [-1. -1.  3.  3.  2.]\n",
            " [-1. -1. -1. -1.  4.]]\n",
            "Elije una opción entre las siguientes\n",
            "1) Ingresar nombre del archivo y crear grafo\n",
            "2) Averiguar el costo mínimo entre dos vértices del grafo ingresado, junto con su \n",
            "camino de aristas\n",
            "3) Imprimir matriz de adyacencia, de warshall y de camino final\n",
            "4) Imagén del grafo\n",
            "5) Salir\n",
            "Ingresa una opción: 2\n",
            "Ingrese el vértice inicial: 1\n",
            "Ingrese el vértice final: 4\n",
            "El costo minimo entre :  1  y  4 es:  6.0\n",
            "El camino para llegar desde el vértice inicial al final es:  1 -- 3 -- 2  -- 4\n",
            "Elije una opción entre las siguientes\n",
            "1) Ingresar nombre del archivo y crear grafo\n",
            "2) Averiguar el costo mínimo entre dos vértices del grafo ingresado, junto con su \n",
            "camino de aristas\n",
            "3) Imprimir matriz de adyacencia, de warshall y de camino final\n",
            "4) Imagén del grafo\n",
            "5) Salir\n",
            "Ingresa una opción: 2\n",
            "Ingrese el vértice inicial: 0\n",
            "Ingrese el vértice final: 3\n",
            "El costo minimo entre :  0  y  3 es:  3.0\n",
            "El camino para llegar desde el vértice inicial al final es:  0 -- 1  -- 3\n",
            "Elije una opción entre las siguientes\n",
            "1) Ingresar nombre del archivo y crear grafo\n",
            "2) Averiguar el costo mínimo entre dos vértices del grafo ingresado, junto con su \n",
            "camino de aristas\n",
            "3) Imprimir matriz de adyacencia, de warshall y de camino final\n",
            "4) Imagén del grafo\n",
            "5) Salir\n",
            "Ingresa una opción: 5\n"
          ]
        }
      ]
    }
  ]
}